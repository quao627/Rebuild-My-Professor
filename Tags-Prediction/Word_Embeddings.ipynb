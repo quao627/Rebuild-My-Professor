{
  "nbformat": 4,
  "nbformat_minor": 0,
  "metadata": {
    "accelerator": "GPU",
    "colab": {
      "name": "Word Embeddings.ipynb",
      "provenance": [],
      "include_colab_link": true
    },
    "kernelspec": {
      "display_name": "Python 3",
      "name": "python3"
    },
    "language_info": {
      "name": "python"
    }
  },
  "cells": [
    {
      "cell_type": "markdown",
      "metadata": {
        "id": "view-in-github",
        "colab_type": "text"
      },
      "source": [
        "<a href=\"https://colab.research.google.com/github/xuezzou/Rebuild-My-Professor/blob/main/Tags-Prediction/Word_Embeddings.ipynb\" target=\"_parent\"><img src=\"https://colab.research.google.com/assets/colab-badge.svg\" alt=\"Open In Colab\"/></a>"
      ]
    },
    {
      "cell_type": "markdown",
      "metadata": {
        "id": "NxyKE39N3NPa"
      },
      "source": [
        "#Word Embedding\n",
        "This notebook is part of the source code of our project to predict professor tages based on user comment. It uses Word2Vec (provided by gensim) to train a custom embedding of the words that appeared in our comments databased collected from ratemyprofessors.com. \n",
        "\n",
        "You do not need to rerun this notebook to run our model notebooks.\n",
        "To run this notebook, first add [our drive](https://drive.google.com/drive/folders/15wGLUvjiGtFXMZ0XzpDYeSH1XEqWjUBB) as shortcut to your google drive or change the path below. \n",
        "\n",
        "For more information, please visit our [github repository](https://github.com/xuezzou/Rebuild-My-Professor/tree/main/Tags-Prediction)."
      ]
    },
    {
      "cell_type": "code",
      "metadata": {
        "colab": {
          "base_uri": "https://localhost:8080/"
        },
        "id": "3pQlKZeXtsrw",
        "outputId": "ba723333-3da4-4662-bb03-4e707f39b26c"
      },
      "source": [
        "import pandas as pd\n",
        "import numpy as np\n",
        "from nltk.tokenize import sent_tokenize\n",
        "from google.colab import drive\n",
        "import nltk\n",
        "import os\n",
        "from gensim.models import Word2Vec\n",
        "from tqdm import tqdm\n",
        "import json\n",
        "from gensim.models.callbacks import CallbackAny2Vec\n",
        "from gensim.models import Word2Vec, KeyedVectors  \n",
        "\n",
        "drive.mount('/content/drive')"
      ],
      "execution_count": 1,
      "outputs": [
        {
          "output_type": "stream",
          "text": [
            "Mounted at /content/drive\n"
          ],
          "name": "stdout"
        }
      ]
    },
    {
      "cell_type": "code",
      "metadata": {
        "colab": {
          "base_uri": "https://localhost:8080/"
        },
        "id": "GPXziid1vBdI",
        "outputId": "a8841d44-41eb-4f54-fee1-7f4fdd98801c"
      },
      "source": [
        "input_path = \"/content/drive/My Drive/Rebuild my Professor/data/Ratings/\"\n",
        "files = [file for file in os.listdir(input_path) if file.endswith(\"csv\")]\n",
        "data = []\n",
        "for file in tqdm(files):\n",
        "  df = pd.read_csv(input_path + file, engine=\"python\", index_col = 0)\n",
        "  data.append(df)\n",
        "data = pd.concat(data)"
      ],
      "execution_count": null,
      "outputs": [
        {
          "output_type": "stream",
          "text": [
            "100%|██████████| 97/97 [01:22<00:00,  1.17it/s]\n"
          ],
          "name": "stderr"
        }
      ]
    },
    {
      "cell_type": "code",
      "metadata": {
        "colab": {
          "base_uri": "https://localhost:8080/"
        },
        "id": "qYD7W1URxP5m",
        "outputId": "b2959aed-13c1-4582-de62-f475f7ed0c01"
      },
      "source": [
        "nltk.download('punkt')\n",
        "\n",
        "tokenizer = nltk.data.load('tokenizers/punkt/english.pickle')\n",
        "comments = data[\"rComments\"].tolist()\n",
        "sentences = []\n",
        "for eachComment in tqdm(comments): \n",
        "  if isinstance(eachComment, str):\n",
        "    tmp = tokenizer.tokenize(eachComment)\n",
        "    sentences.extend(tmp)\n",
        "print(len(sentences), \" sentences are collected.\")"
      ],
      "execution_count": null,
      "outputs": [
        {
          "output_type": "stream",
          "text": [
            "[nltk_data] Downloading package punkt to /root/nltk_data...\n",
            "[nltk_data]   Package punkt is already up-to-date!\n"
          ],
          "name": "stdout"
        },
        {
          "output_type": "stream",
          "text": [
            "100%|██████████| 3207500/3207500 [05:19<00:00, 10043.07it/s]"
          ],
          "name": "stderr"
        },
        {
          "output_type": "stream",
          "text": [
            "12077489  sentences are collected.\n"
          ],
          "name": "stdout"
        },
        {
          "output_type": "stream",
          "text": [
            "\n"
          ],
          "name": "stderr"
        }
      ]
    },
    {
      "cell_type": "code",
      "metadata": {
        "colab": {
          "base_uri": "https://localhost:8080/"
        },
        "id": "m5SHPgFMyGPP",
        "outputId": "69a98b00-4461-47b5-c507-a4f7eb17c6e5"
      },
      "source": [
        "all_words = []\n",
        "for i, sent in tqdm(enumerate(sentences)):\n",
        "  all_words.append(nltk.word_tokenize(sent))\n",
        "  if (i % 1000000 == 0) & (i > 0):\n",
        "    k = i / 1000000\n",
        "    with open('/content/drive/My Drive/Rebuild my Professor/Word_Embeddings/words_{}.json'.format(int(k)), 'w') as f:\n",
        "      json.dump(all_words, f)\n",
        "    all_words = []\n",
        "with open('/content/drive/My Drive/Rebuild my Professor/Word_Embeddings/words_{}.json'.format(i / 1000000 + 1), 'w') as f:\n",
        "  json.dump(all_words, f)"
      ],
      "execution_count": null,
      "outputs": [
        {
          "output_type": "stream",
          "text": [
            "12077489it [31:01, 6488.01it/s]\n"
          ],
          "name": "stderr"
        }
      ]
    },
    {
      "cell_type": "code",
      "metadata": {
        "id": "X3B7r8TGG2WU"
      },
      "source": [
        "from IPython import get_ipython;   \n",
        "get_ipython().magic('reset -sf')"
      ],
      "execution_count": null,
      "outputs": []
    },
    {
      "cell_type": "code",
      "metadata": {
        "colab": {
          "base_uri": "https://localhost:8080/"
        },
        "id": "lHahtmZf6a5r",
        "outputId": "7558113c-1d1e-4825-9f1a-050b48917514"
      },
      "source": [
        "input_path = \"/content/drive/My Drive/Rebuild my Professor/Word_Embeddings/\"\n",
        "word_files = os.listdir(input_path)\n",
        "all_words = []\n",
        "for file_name in tqdm(word_files[:6]):\n",
        "  with open(input_path + file_name, 'r') as j:\n",
        "     words = json.loads(j.read())\n",
        "  all_words.extend(words)"
      ],
      "execution_count": null,
      "outputs": [
        {
          "output_type": "stream",
          "text": [
            "100%|██████████| 6/6 [00:35<00:00,  5.97s/it]\n"
          ],
          "name": "stderr"
        }
      ]
    },
    {
      "cell_type": "code",
      "metadata": {
        "colab": {
          "base_uri": "https://localhost:8080/"
        },
        "id": "_cNk5XyGEVOZ",
        "outputId": "cf5ea0be-143c-46c3-e1b9-81fd416d57d7"
      },
      "source": [
        "class callback(CallbackAny2Vec):\n",
        "    '''Callback to print loss after each epoch.'''\n",
        "\n",
        "    def __init__(self):\n",
        "        self.epoch = 0\n",
        "\n",
        "    def on_epoch_end(self, model):\n",
        "        loss = model.get_latest_training_loss()\n",
        "        print('Loss after epoch {}: {}'.format(self.epoch, loss))\n",
        "        self.epoch += 1\n",
        "\n",
        "word2vec = Word2Vec(sentences=all_words, size=32, min_count=2, window=5, workers=4, iter=5, compute_loss=True, callbacks=[callback()])"
      ],
      "execution_count": null,
      "outputs": [
        {
          "output_type": "stream",
          "text": [
            "Loss after epoch 0: 23292604.0\n",
            "Loss after epoch 1: 38731380.0\n",
            "Loss after epoch 2: 50209960.0\n",
            "Loss after epoch 3: 61048908.0\n",
            "Loss after epoch 4: 67507392.0\n"
          ],
          "name": "stdout"
        }
      ]
    },
    {
      "cell_type": "code",
      "metadata": {
        "id": "gfyIHYlKT4oi"
      },
      "source": [
        " word2vec.wv.save_word2vec_format('/content/drive/My Drive/Rebuild my Professor/word2vec_model.bin', binary=True)"
      ],
      "execution_count": null,
      "outputs": []
    },
    {
      "cell_type": "markdown",
      "metadata": {
        "id": "05dTUWgHDb3N"
      },
      "source": [
        "# Understanding the Word2Vec embedding space\n",
        "Below, we showed the most similar words of several domain specific words to have a better understanding of the word2vec embedding we trained."
      ]
    },
    {
      "cell_type": "code",
      "metadata": {
        "colab": {
          "base_uri": "https://localhost:8080/"
        },
        "id": "6rPlwHIdHELD",
        "outputId": "cef4b0a7-74ba-4d06-a8c6-4815c2daa662"
      },
      "source": [
        "word2vec.wv.most_similar('office', topn=20)"
      ],
      "execution_count": null,
      "outputs": [
        {
          "output_type": "execute_result",
          "data": {
            "text/plain": [
              "[('offfice', 0.8448866009712219),\n",
              " ('offie', 0.8379395604133606),\n",
              " ('offices', 0.8354521989822388),\n",
              " ('offce', 0.8246065378189087),\n",
              " ('officer', 0.8136253356933594),\n",
              " ('class/office', 0.8086735010147095),\n",
              " ('classoffice', 0.8015520572662354),\n",
              " ('non-office', 0.8014777302742004),\n",
              " ('offic', 0.8000969886779785),\n",
              " ('Office', 0.7996500730514526),\n",
              " ('ofice', 0.7953187227249146),\n",
              " ('offcie', 0.7901627421379089),\n",
              " ('lecture/office', 0.7767406702041626),\n",
              " ('lectures/office', 0.7632799744606018),\n",
              " ('sessions/office', 0.747004508972168),\n",
              " ('discussion/office', 0.7390647530555725),\n",
              " ('OH', 0.7348949313163757),\n",
              " ('person/office', 0.7245435118675232),\n",
              " ('section/office', 0.7152190208435059),\n",
              " ('-Office', 0.7151581048965454)]"
            ]
          },
          "metadata": {
            "tags": []
          },
          "execution_count": 13
        }
      ]
    },
    {
      "cell_type": "code",
      "metadata": {
        "colab": {
          "base_uri": "https://localhost:8080/"
        },
        "id": "TLgVvs_GKmlo",
        "outputId": "6d820f59-ccbe-4779-ef99-71f321f6b330"
      },
      "source": [
        "word2vec.wv.most_similar('paper', topn=20)"
      ],
      "execution_count": null,
      "outputs": [
        {
          "output_type": "execute_result",
          "data": {
            "text/plain": [
              "[('paper-', 0.9070572853088379),\n",
              " ('project', 0.837800145149231),\n",
              " ('essay', 0.8280050754547119),\n",
              " ('10-page', 0.8126891851425171),\n",
              " ('report', 0.8125085234642029),\n",
              " ('portfolio', 0.81093829870224),\n",
              " ('paper..', 0.8039724826812744),\n",
              " ('assignment', 0.793095052242279),\n",
              " ('proposal', 0.7926038503646851),\n",
              " ('memo', 0.7921077013015747),\n",
              " ('presentation', 0.7872051000595093),\n",
              " ('15-page', 0.787093997001648),\n",
              " ('10pg', 0.7799932956695557),\n",
              " ('papers', 0.7779519557952881),\n",
              " ('write-up', 0.7767899036407471),\n",
              " ('single-spaced', 0.7754182815551758),\n",
              " ('draft', 0.7730504274368286),\n",
              " ('double-spaced', 0.7677140235900879),\n",
              " ('term', 0.7649765014648438),\n",
              " ('bibliography', 0.7626125812530518)]"
            ]
          },
          "metadata": {
            "tags": []
          },
          "execution_count": 14
        }
      ]
    },
    {
      "cell_type": "code",
      "metadata": {
        "colab": {
          "base_uri": "https://localhost:8080/"
        },
        "id": "EX3iAwFAPNoX",
        "outputId": "349b00c9-fe43-4094-beb9-652f6816e79e"
      },
      "source": [
        "word2vec.wv.most_similar('exam', topn=20)"
      ],
      "execution_count": null,
      "outputs": [
        {
          "output_type": "execute_result",
          "data": {
            "text/plain": [
              "[('test', 0.9551643133163452),\n",
              " ('midterm', 0.8961329460144043),\n",
              " ('midterm/final', 0.8500328063964844),\n",
              " ('quiz/test', 0.8352929949760437),\n",
              " ('midterms', 0.8352903723716736),\n",
              " ('prelim', 0.8258877992630005),\n",
              " ('quiz', 0.8225173354148865),\n",
              " ('quiz/exam', 0.8224886059761047),\n",
              " ('mid-term', 0.8112274408340454),\n",
              " ('assignment', 0.8016765117645264),\n",
              " ('test-', 0.7985386848449707),\n",
              " ('exams', 0.7877798080444336),\n",
              " ('exam..', 0.7841967344284058),\n",
              " ('MT', 0.7773595452308655),\n",
              " ('test..', 0.7770397663116455),\n",
              " ('exam/quiz', 0.7669656276702881),\n",
              " ('mt', 0.7646132707595825),\n",
              " ('test/quiz', 0.7543649673461914),\n",
              " ('midterm-', 0.7521929144859314),\n",
              " ('essay', 0.7449544668197632)]"
            ]
          },
          "metadata": {
            "tags": []
          },
          "execution_count": 15
        }
      ]
    },
    {
      "cell_type": "code",
      "metadata": {
        "colab": {
          "base_uri": "https://localhost:8080/"
        },
        "id": "0t3LSU3TPj3Q",
        "outputId": "39b3770b-89e0-49b2-b9e7-d8b6c887ef29"
      },
      "source": [
        "word2vec.wv.most_similar('professor', topn=20)"
      ],
      "execution_count": null,
      "outputs": [
        {
          "output_type": "execute_result",
          "data": {
            "text/plain": [
              "[('teacher', 0.9774253368377686),\n",
              " ('prof', 0.9772658944129944),\n",
              " ('instructor', 0.9416685700416565),\n",
              " ('prof.', 0.920424222946167),\n",
              " ('proffesor', 0.8987956047058105),\n",
              " ('profesor', 0.8728647232055664),\n",
              " ('person', 0.857303261756897),\n",
              " ('proffessor', 0.8554110527038574),\n",
              " ('professor-', 0.8447027206420898),\n",
              " ('lecturer', 0.8404526710510254),\n",
              " ('woman', 0.8090539574623108),\n",
              " ('guy', 0.8069437146186829),\n",
              " ('teacher-', 0.8040547370910645),\n",
              " ('man', 0.7972139120101929),\n",
              " ('educator', 0.7927772998809814),\n",
              " ('Teacher', 0.7921923398971558),\n",
              " ('proff', 0.7918639183044434),\n",
              " ('lecturer-', 0.774010181427002),\n",
              " ('dude', 0.7735586166381836),\n",
              " ('professor..', 0.7711555361747742)]"
            ]
          },
          "metadata": {
            "tags": []
          },
          "execution_count": 16
        }
      ]
    },
    {
      "cell_type": "code",
      "metadata": {
        "colab": {
          "base_uri": "https://localhost:8080/"
        },
        "id": "qDDRobMtP1-d",
        "outputId": "81918fd5-8fc0-4a16-ec5a-de48b52de886"
      },
      "source": [
        "word2vec.wv.most_similar('curve', topn=20)"
      ],
      "execution_count": null,
      "outputs": [
        {
          "output_type": "execute_result",
          "data": {
            "text/plain": [
              "[('curve..', 0.7614126205444336),\n",
              " ('Curve', 0.7312848567962646),\n",
              " ('score', 0.7086985111236572),\n",
              " ('scale', 0.6935360431671143),\n",
              " ('curving', 0.6898989081382751),\n",
              " ('grade', 0.6836727261543274),\n",
              " ('surprise', 0.6542413234710693),\n",
              " ('curves', 0.6245114207267761),\n",
              " ('+-', 0.6179966926574707),\n",
              " ('curve-', 0.6172598600387573),\n",
              " ('retakes', 0.6086616516113281),\n",
              " ('rubric', 0.6067304015159607),\n",
              " ('gsi', 0.6048409938812256),\n",
              " ('TF', 0.6001451015472412),\n",
              " ('B/high', 0.5905258059501648),\n",
              " ('grade-', 0.5884222984313965),\n",
              " ('Generously', 0.585517168045044),\n",
              " ('95.6', 0.5845207571983337),\n",
              " ('budge', 0.5773179531097412),\n",
              " ('grader.He', 0.5765093564987183)]"
            ]
          },
          "metadata": {
            "tags": []
          },
          "execution_count": 17
        }
      ]
    },
    {
      "cell_type": "code",
      "metadata": {
        "colab": {
          "base_uri": "https://localhost:8080/"
        },
        "id": "QQ9efnZ8P4pV",
        "outputId": "81013172-aa8e-4fb3-e0e3-e9e2c4961142"
      },
      "source": [
        "word2vec.wv.most_similar('grade', topn=20)"
      ],
      "execution_count": null,
      "outputs": [
        {
          "output_type": "execute_result",
          "data": {
            "text/plain": [
              "[('score', 0.888958215713501),\n",
              " ('grade-', 0.8564148545265198),\n",
              " ('grade..', 0.8370355367660522),\n",
              " ('GPA', 0.796845555305481),\n",
              " ('grades', 0.7652790546417236),\n",
              " ('gpa', 0.7598588466644287),\n",
              " ('scores', 0.7448750734329224),\n",
              " ('gsi', 0.7285569310188293),\n",
              " ('grade.She', 0.7083241939544678),\n",
              " ('GSI', 0.7031882405281067),\n",
              " ('grade.If', 0.7011852264404297),\n",
              " ('curve', 0.6836726665496826),\n",
              " ('teammates', 0.680732250213623),\n",
              " ('weight', 0.6442605257034302),\n",
              " ('opinion..', 0.6394960284233093),\n",
              " ('partner', 0.6356966495513916),\n",
              " ('performance', 0.6282052397727966),\n",
              " ('.anyway', 0.6259369254112244),\n",
              " ('portfolio', 0.6249605417251587),\n",
              " ('tuitions', 0.6236144304275513)]"
            ]
          },
          "metadata": {
            "tags": []
          },
          "execution_count": 18
        }
      ]
    },
    {
      "cell_type": "code",
      "metadata": {
        "colab": {
          "base_uri": "https://localhost:8080/"
        },
        "id": "8dGaTpTjP-sM",
        "outputId": "b641b37a-3f9b-498f-e6d8-426a951487ae"
      },
      "source": [
        "word2vec.wv.most_similar('A', topn=20)"
      ],
      "execution_count": null,
      "outputs": [
        {
          "output_type": "execute_result",
          "data": {
            "text/plain": [
              "[('A/A-', 0.8872286677360535),\n",
              " ('A/B', 0.8814757466316223),\n",
              " ('A+', 0.8543083071708679),\n",
              " ('a.', 0.8517325520515442),\n",
              " ('A.', 0.8512063026428223),\n",
              " ('A..', 0.830458402633667),\n",
              " ('A-', 0.7871443629264832),\n",
              " ('A/A+', 0.7763746976852417),\n",
              " ('B+/A-', 0.7713622450828552),\n",
              " ('A-/B+', 0.7629518508911133),\n",
              " ('A-/A', 0.7516396045684814),\n",
              " ('A/AB', 0.7430094480514526),\n",
              " (\"'A\", 0.7325279116630554),\n",
              " ('a-', 0.7292481660842896),\n",
              " ('A~', 0.728992223739624),\n",
              " ('A.I', 0.7212188839912415),\n",
              " ('extension', 0.7145677208900452),\n",
              " ('F', 0.7037407159805298),\n",
              " ('F.', 0.7013682126998901),\n",
              " ('A.He', 0.7012124061584473)]"
            ]
          },
          "metadata": {
            "tags": []
          },
          "execution_count": 19
        }
      ]
    },
    {
      "cell_type": "code",
      "metadata": {
        "colab": {
          "base_uri": "https://localhost:8080/"
        },
        "id": "W1tArR55Q8r5",
        "outputId": "666551ba-7292-4ef2-f27f-fc2b7f6c71ff"
      },
      "source": [
        "word2vec.wv.most_similar('C', topn=20)"
      ],
      "execution_count": null,
      "outputs": [
        {
          "output_type": "execute_result",
          "data": {
            "text/plain": [
              "[('C-', 0.9503031373023987),\n",
              " ('B-', 0.9467709064483643),\n",
              " ('B', 0.9450910687446594),\n",
              " ('B+', 0.9396100640296936),\n",
              " ('C+', 0.9285691976547241),\n",
              " ('D', 0.9248325228691101),\n",
              " ('D-', 0.9228590726852417),\n",
              " ('b-', 0.9152387380599976),\n",
              " ('D+', 0.9112502336502075),\n",
              " ('c-', 0.9091811180114746),\n",
              " ('D.', 0.8841480016708374),\n",
              " ('b+', 0.8684453964233398),\n",
              " ('93', 0.8611010313034058),\n",
              " ('C.', 0.8591713309288025),\n",
              " ('c+', 0.8573942184448242),\n",
              " ('3.0', 0.8555498123168945),\n",
              " ('94', 0.8523093461990356),\n",
              " ('c', 0.8519816398620605),\n",
              " ('96', 0.848919153213501),\n",
              " ('92', 0.841126024723053)]"
            ]
          },
          "metadata": {
            "tags": []
          },
          "execution_count": 31
        }
      ]
    },
    {
      "cell_type": "code",
      "metadata": {
        "colab": {
          "base_uri": "https://localhost:8080/"
        },
        "id": "eMaKm9reQCmo",
        "outputId": "3ef93d6e-8197-4997-bcad-5642d4917f8e"
      },
      "source": [
        "word2vec.wv.most_similar('C++', topn=20)"
      ],
      "execution_count": null,
      "outputs": [
        {
          "output_type": "execute_result",
          "data": {
            "text/plain": [
              "[('Java', 0.9568295478820801),\n",
              " ('python', 0.93168044090271),\n",
              " ('java', 0.9223167896270752),\n",
              " ('Python', 0.889715313911438),\n",
              " ('circuits', 0.8673341274261475),\n",
              " ('probability', 0.8532583117485046),\n",
              " ('c++', 0.8396586775779724),\n",
              " ('statistics', 0.8290060758590698),\n",
              " ('SQL', 0.8272294998168945),\n",
              " ('regression', 0.8096137046813965),\n",
              " ('biochemistry', 0.8057542443275452),\n",
              " ('econometrics', 0.8038753867149353),\n",
              " ('biology', 0.8029372096061707),\n",
              " ('algorithms', 0.797566294670105),\n",
              " ('mathematics', 0.7973673939704895),\n",
              " ('calculus', 0.796259880065918),\n",
              " ('Matlab', 0.7961695790290833),\n",
              " ('derivatives', 0.7947729825973511),\n",
              " ('marketing', 0.7934837937355042),\n",
              " ('principles', 0.7934430837631226)]"
            ]
          },
          "metadata": {
            "tags": []
          },
          "execution_count": 29
        }
      ]
    },
    {
      "cell_type": "code",
      "metadata": {
        "colab": {
          "base_uri": "https://localhost:8080/"
        },
        "id": "bbkcrZ7WQGDN",
        "outputId": "96c597a0-a03e-439b-a6b1-d8de990970fa"
      },
      "source": [
        "word2vec.wv.most_similar('timed', topn=20)"
      ],
      "execution_count": null,
      "outputs": [
        {
          "output_type": "execute_result",
          "data": {
            "text/plain": [
              "[('open-book', 0.8851839900016785),\n",
              " ('open-note', 0.8814364671707153),\n",
              " ('proctored', 0.8725665807723999),\n",
              " ('take-home', 0.8525376319885254),\n",
              " ('multiple-choice', 0.807465672492981),\n",
              " ('biweekly', 0.805736243724823),\n",
              " ('Finals', 0.8051190376281738),\n",
              " ('Map', 0.7776305675506592),\n",
              " ('Written', 0.7747001647949219),\n",
              " ('non-cumulative', 0.7702422142028809),\n",
              " ('FRQ', 0.7695075273513794),\n",
              " ('free-response', 0.7683980464935303),\n",
              " ('weekly', 0.767899215221405),\n",
              " ('noncumulative', 0.7636311054229736),\n",
              " ('quizs', 0.7634577751159668),\n",
              " ('Response', 0.7608276605606079),\n",
              " ('takehome', 0.7595908641815186),\n",
              " ('Pop', 0.7545723915100098),\n",
              " ('mini', 0.751979649066925),\n",
              " ('Weekly', 0.7515791654586792)]"
            ]
          },
          "metadata": {
            "tags": []
          },
          "execution_count": 38
        }
      ]
    },
    {
      "cell_type": "code",
      "metadata": {
        "colab": {
          "base_uri": "https://localhost:8080/"
        },
        "id": "j7jxgkO7Q6hH",
        "outputId": "1f1ec54f-d277-442c-865d-10c286c6e401"
      },
      "source": [
        "word2vec.wv.most_similar('math', topn=20)"
      ],
      "execution_count": null,
      "outputs": [
        {
          "output_type": "execute_result",
          "data": {
            "text/plain": [
              "[('physics', 0.9308289289474487),\n",
              " ('chemistry', 0.8925142884254456),\n",
              " ('accounting', 0.8854146003723145),\n",
              " ('econ', 0.8737497329711914),\n",
              " ('chem', 0.861601710319519),\n",
              " ('stats', 0.8568164706230164),\n",
              " ('spanish', 0.837165892124176),\n",
              " ('CS', 0.8346633315086365),\n",
              " ('calculus', 0.8312638401985168),\n",
              " ('Chemistry', 0.8211394548416138),\n",
              " ('maths', 0.8203173875808716),\n",
              " ('Spanish', 0.8197668790817261),\n",
              " ('statistics', 0.8172283172607422),\n",
              " ('bio', 0.8128029108047485),\n",
              " ('ochem', 0.8110219240188599),\n",
              " ('biology', 0.8108948469161987),\n",
              " ('mathematics', 0.7862789630889893),\n",
              " ('economics', 0.7819921970367432),\n",
              " ('finance', 0.7778773307800293),\n",
              " ('Physics', 0.7707668542861938)]"
            ]
          },
          "metadata": {
            "tags": []
          },
          "execution_count": 39
        }
      ]
    },
    {
      "cell_type": "code",
      "metadata": {
        "colab": {
          "base_uri": "https://localhost:8080/"
        },
        "id": "oGNwfMQ9RubB",
        "outputId": "b0b8cb63-ec5b-4aa5-b974-8532732fea21"
      },
      "source": [
        "word2vec.wv.most_similar('extra', topn=20)"
      ],
      "execution_count": null,
      "outputs": [
        {
          "output_type": "execute_result",
          "data": {
            "text/plain": [
              "[('xtra', 0.9003012180328369),\n",
              " ('Extra', 0.8779666423797607),\n",
              " ('curves/extra', 0.8445723056793213),\n",
              " ('bonus', 0.8432154655456543),\n",
              " ('partial', 0.8060284852981567),\n",
              " ('exta', 0.8038235902786255),\n",
              " ('EC', 0.7670366168022156),\n",
              " ('extra-credit', 0.7643975019454956),\n",
              " ('owl', 0.761504054069519),\n",
              " ('x-tra', 0.7582939863204956),\n",
              " ('Partial', 0.7507591247558594),\n",
              " ('ec', 0.7463140487670898),\n",
              " ('Xtra', 0.7307668924331665),\n",
              " ('debits', 0.7303364872932434),\n",
              " ('-extra', 0.7298237681388855),\n",
              " ('E.C', 0.7176017761230469),\n",
              " ('credit/no', 0.7156850099563599),\n",
              " ('iclicker', 0.7123750448226929),\n",
              " ('XC', 0.7086117267608643),\n",
              " ('i-clicker', 0.6988398432731628)]"
            ]
          },
          "metadata": {
            "tags": []
          },
          "execution_count": 41
        }
      ]
    },
    {
      "cell_type": "code",
      "metadata": {
        "colab": {
          "base_uri": "https://localhost:8080/"
        },
        "id": "x5hzaddURwl7",
        "outputId": "0327d0cc-df62-4115-98a3-e0b2f9d867ce"
      },
      "source": [
        "word2vec.wv.most_similar('Vanderbilt', topn=20)"
      ],
      "execution_count": null,
      "outputs": [
        {
          "output_type": "execute_result",
          "data": {
            "text/plain": [
              "[('Cornell', 0.985726535320282),\n",
              " ('Duke', 0.985148549079895),\n",
              " ('Georgetown', 0.9827951192855835),\n",
              " ('Emory', 0.9814165830612183),\n",
              " ('WashU', 0.9803495407104492),\n",
              " ('Vandy', 0.9771180748939514),\n",
              " ('Gonzaga', 0.9745078086853027),\n",
              " ('TCU', 0.9743008017539978),\n",
              " ('USC', 0.9737849235534668),\n",
              " ('UCSB', 0.9734106659889221),\n",
              " ('UVA', 0.9717364311218262),\n",
              " ('UF', 0.9710806608200073),\n",
              " ('Tufts', 0.9709715247154236),\n",
              " ('NYU', 0.9703435897827148),\n",
              " ('Tulane', 0.9675183296203613),\n",
              " ('Berkeley', 0.9658113121986389),\n",
              " ('UCI', 0.9653502702713013),\n",
              " ('Marquette', 0.9649713039398193),\n",
              " ('DU', 0.9640470743179321),\n",
              " ('Elon', 0.9632534980773926)]"
            ]
          },
          "metadata": {
            "tags": []
          },
          "execution_count": 42
        }
      ]
    },
    {
      "cell_type": "code",
      "metadata": {
        "colab": {
          "base_uri": "https://localhost:8080/"
        },
        "id": "QczLQ_YN4iVU",
        "outputId": "563760e1-39f6-4e29-809d-b9a0055bd178"
      },
      "source": [
        "keys = ['paper', 'exam', 'math', 'homework', 'curve', 'extra', 'professor', 'great', 'helpful', 'Vanderbilt']\n",
        "\n",
        "embedding_clusters = []\n",
        "word_clusters = []\n",
        "for word in keys:\n",
        "    embeddings = []\n",
        "    words = []\n",
        "    for similar_word, _ in model.wv.most_similar(word, topn=30):\n",
        "        words.append(similar_word)\n",
        "        embeddings.append(model[similar_word])\n",
        "    embedding_clusters.append(embeddings)\n",
        "    word_clusters.append(words)\n",
        "\n",
        "from sklearn.manifold import TSNE\n",
        "import numpy as np\n",
        "\n",
        "embedding_clusters = np.array(embedding_clusters)\n",
        "n, m, k = embedding_clusters.shape\n",
        "tsne_model_en_2d = TSNE(perplexity=15, n_components=2, init='pca', n_iter=3500, random_state=32)\n",
        "embeddings_en_2d = np.array(tsne_model_en_2d.fit_transform(embedding_clusters.reshape(n * m, k))).reshape(n, m, 2)"
      ],
      "execution_count": null,
      "outputs": [
        {
          "output_type": "stream",
          "text": [
            "/usr/local/lib/python3.7/dist-packages/ipykernel_launcher.py:8: DeprecationWarning:\n",
            "\n",
            "Call to deprecated `wv` (Attribute will be removed in 4.0.0, use self instead).\n",
            "\n"
          ],
          "name": "stderr"
        }
      ]
    },
    {
      "cell_type": "markdown",
      "metadata": {
        "id": "8K3sxlncMIzx"
      },
      "source": [
        "We can also visualize the embedding by reducing the dimension and plotting several words and their most similar words in one graph."
      ]
    },
    {
      "cell_type": "code",
      "metadata": {
        "colab": {
          "base_uri": "https://localhost:8080/",
          "height": 1000
        },
        "id": "VoWbcDBP29Ae",
        "outputId": "69b0abb7-1925-4e6e-da5b-7143b8f01e0f"
      },
      "source": [
        "import matplotlib.pyplot as plt\n",
        "import matplotlib.cm as cm\n",
        "% matplotlib inline\n",
        "\n",
        "\n",
        "def tsne_plot_similar_words(title, labels, embedding_clusters, word_clusters, a, filename=None):\n",
        "    plt.figure(figsize=(25, 16))\n",
        "    colors = cm.rainbow(np.linspace(0, 1, len(labels)))\n",
        "    for label, embeddings, words, color in zip(labels, embedding_clusters, word_clusters, colors):\n",
        "        x = embeddings[:, 0]\n",
        "        y = embeddings[:, 1]\n",
        "        plt.scatter(x, y, c=color, alpha=a, label=label)\n",
        "        for i, word in enumerate(words):\n",
        "            plt.annotate(word, alpha=0.8, xy=(x[i], y[i]), xytext=(5, 2),\n",
        "                         textcoords='offset points', ha='right', va='bottom', size=8)\n",
        "    plt.legend(loc=4)\n",
        "    plt.title(title)\n",
        "    plt.grid(True)\n",
        "    if filename:\n",
        "        plt.savefig(filename, format='png', dpi=150, bbox_inches='tight')\n",
        "    plt.show()\n",
        "\n",
        "\n",
        "tsne_plot_similar_words('Similar words from Google News', keys, embeddings_en_2d, word_clusters, 0.7,\n",
        "                        'similar_words.png')"
      ],
      "execution_count": null,
      "outputs": [
        {
          "output_type": "stream",
          "text": [
            "*c* argument looks like a single numeric RGB or RGBA sequence, which should be avoided as value-mapping will have precedence in case its length matches with *x* & *y*.  Please use the *color* keyword-argument or provide a 2-D array with a single row if you intend to specify the same RGB or RGBA value for all points.\n",
            "*c* argument looks like a single numeric RGB or RGBA sequence, which should be avoided as value-mapping will have precedence in case its length matches with *x* & *y*.  Please use the *color* keyword-argument or provide a 2-D array with a single row if you intend to specify the same RGB or RGBA value for all points.\n",
            "*c* argument looks like a single numeric RGB or RGBA sequence, which should be avoided as value-mapping will have precedence in case its length matches with *x* & *y*.  Please use the *color* keyword-argument or provide a 2-D array with a single row if you intend to specify the same RGB or RGBA value for all points.\n",
            "*c* argument looks like a single numeric RGB or RGBA sequence, which should be avoided as value-mapping will have precedence in case its length matches with *x* & *y*.  Please use the *color* keyword-argument or provide a 2-D array with a single row if you intend to specify the same RGB or RGBA value for all points.\n",
            "*c* argument looks like a single numeric RGB or RGBA sequence, which should be avoided as value-mapping will have precedence in case its length matches with *x* & *y*.  Please use the *color* keyword-argument or provide a 2-D array with a single row if you intend to specify the same RGB or RGBA value for all points.\n",
            "*c* argument looks like a single numeric RGB or RGBA sequence, which should be avoided as value-mapping will have precedence in case its length matches with *x* & *y*.  Please use the *color* keyword-argument or provide a 2-D array with a single row if you intend to specify the same RGB or RGBA value for all points.\n",
            "*c* argument looks like a single numeric RGB or RGBA sequence, which should be avoided as value-mapping will have precedence in case its length matches with *x* & *y*.  Please use the *color* keyword-argument or provide a 2-D array with a single row if you intend to specify the same RGB or RGBA value for all points.\n",
            "*c* argument looks like a single numeric RGB or RGBA sequence, which should be avoided as value-mapping will have precedence in case its length matches with *x* & *y*.  Please use the *color* keyword-argument or provide a 2-D array with a single row if you intend to specify the same RGB or RGBA value for all points.\n",
            "*c* argument looks like a single numeric RGB or RGBA sequence, which should be avoided as value-mapping will have precedence in case its length matches with *x* & *y*.  Please use the *color* keyword-argument or provide a 2-D array with a single row if you intend to specify the same RGB or RGBA value for all points.\n",
            "*c* argument looks like a single numeric RGB or RGBA sequence, which should be avoided as value-mapping will have precedence in case its length matches with *x* & *y*.  Please use the *color* keyword-argument or provide a 2-D array with a single row if you intend to specify the same RGB or RGBA value for all points.\n"
          ],
          "name": "stderr"
        },
        {
          "output_type": "display_data",
          "data": {
            "image/png": "[encoded data removed]",
            "text/plain": [
              "<Figure size 1800x1152 with 1 Axes>"
            ]
          },
          "metadata": {
            "tags": []
          }
        }
      ]
    },
    {
      "cell_type": "markdown",
      "metadata": {
        "id": "DUU_nh40bFgN"
      },
      "source": [
        "# Text Classification Model"
      ]
    },
    {
      "cell_type": "code",
      "metadata": {
        "id": "VcNMcfEo55bx"
      },
      "source": [
        "from gensim.test.utils import datapath\n",
        "word2vec = KeyedVectors.load_word2vec_format(datapath(\"/content/drive/My Drive/Rebuild my Professor/Radar Chart notebooks/word2vec_model.bin\"), binary=True)"
      ],
      "execution_count": 2,
      "outputs": []
    },
    {
      "cell_type": "code",
      "metadata": {
        "colab": {
          "base_uri": "https://localhost:8080/"
        },
        "id": "XB4u8oUT8ScK",
        "outputId": "a891af4c-cdce-4e4b-e355-fb12df41ffe2"
      },
      "source": [
        "import torch\n",
        "import torch.nn as nn\n",
        "\n",
        "weights = torch.FloatTensor(word2vec.wv.vectors)\n",
        "embedding = nn.Embedding.from_pretrained(weights)\n",
        "embedded_words = word2vec.vocab"
      ],
      "execution_count": 3,
      "outputs": [
        {
          "output_type": "stream",
          "text": [
            "/usr/local/lib/python3.7/dist-packages/ipykernel_launcher.py:4: DeprecationWarning: Call to deprecated `wv` (Attribute will be removed in 4.0.0, use self instead).\n",
            "  after removing the cwd from sys.path.\n"
          ],
          "name": "stderr"
        }
      ]
    },
    {
      "cell_type": "code",
      "metadata": {
        "colab": {
          "base_uri": "https://localhost:8080/"
        },
        "id": "3DFbbVYUwBsO",
        "outputId": "adeb8703-1311-4366-a5ed-9360bd12e75a"
      },
      "source": [
        "import os\n",
        "\n",
        "input_path = \"/content/drive/My Drive/Rebuild my Professor/data/Ratings/\"\n",
        "df = pd.DataFrame()\n",
        "for file in tqdm(os.listdir(input_path)):\n",
        "  if file.endswith(\"csv\"):\n",
        "    df_temp = pd.read_csv(input_path + file, lineterminator='\\n')\n",
        "    df_temp = df_temp.sample(frac=0.01)\n",
        "    df = df.append(df_temp)"
      ],
      "execution_count": 4,
      "outputs": [
        {
          "output_type": "stream",
          "text": [
            "100%|██████████| 103/103 [01:45<00:00,  1.02s/it]\n"
          ],
          "name": "stderr"
        }
      ]
    },
    {
      "cell_type": "code",
      "metadata": {
        "id": "nwvVujHjeECn"
      },
      "source": [
        "df=df.loc[:,['rComments','teacherRatingTags']]\n",
        "df = df[df['teacherRatingTags'] != '[]']"
      ],
      "execution_count": 5,
      "outputs": []
    },
    {
      "cell_type": "code",
      "metadata": {
        "id": "DNZoxRFMzPE_"
      },
      "source": [
        "import ast \n",
        "df['teacherRatingTags'] = df['teacherRatingTags'].apply(ast.literal_eval)"
      ],
      "execution_count": 6,
      "outputs": []
    },
    {
      "cell_type": "code",
      "metadata": {
        "id": "Zh_Z1f3DeOff"
      },
      "source": [
        "# One-hot encoding of multilabel\n",
        "from sklearn.preprocessing import MultiLabelBinarizer\n",
        "\n",
        "mlb = MultiLabelBinarizer()\n",
        "df_tags = pd.DataFrame(mlb.fit_transform(df['teacherRatingTags']),columns=mlb.classes_)"
      ],
      "execution_count": 7,
      "outputs": []
    },
    {
      "cell_type": "code",
      "metadata": {
        "colab": {
          "base_uri": "https://localhost:8080/"
        },
        "id": "kzyoEF-bysgb",
        "outputId": "f561edb5-cd31-4e92-abe1-203ce575ffdf"
      },
      "source": [
        "import nltk\n",
        "nltk.download('stopwords')\n",
        "nltk.download('punkt')\n",
        "from nltk.corpus import stopwords\n",
        "from nltk.tokenize import word_tokenize\n",
        "import re\n",
        "\n",
        "stop_words = set(stopwords.words('english'))\n",
        "\n",
        "def preprocess_text(sen):\n",
        "    # Remove punctuations and numbers\n",
        "    sentence = re.sub('[^a-zA-Z]', ' ', sen)\n",
        "\n",
        "    # Removing multiple spaces\n",
        "    sentence = re.sub(r'\\s+', ' ', sentence)\n",
        "\n",
        "    # Removing stopwords\n",
        "    tokenized_words = word_tokenize(sentence)\n",
        "    sentence = [word for word in tokenized_words if (not word in stop_words) and (word in embedded_words)]\n",
        "\n",
        "    return sentence"
      ],
      "execution_count": 8,
      "outputs": [
        {
          "output_type": "stream",
          "text": [
            "[nltk_data] Downloading package stopwords to /root/nltk_data...\n",
            "[nltk_data]   Unzipping corpora/stopwords.zip.\n",
            "[nltk_data] Downloading package punkt to /root/nltk_data...\n",
            "[nltk_data]   Unzipping tokenizers/punkt.zip.\n"
          ],
          "name": "stdout"
        }
      ]
    },
    {
      "cell_type": "code",
      "metadata": {
        "id": "g_ohmpmI0zCo",
        "colab": {
          "base_uri": "https://localhost:8080/"
        },
        "outputId": "6435a636-5702-420c-9530-5b41c2c7215c"
      },
      "source": [
        "sentences = [preprocess_text(sentence) for sentence in tqdm(df[\"rComments\"])]"
      ],
      "execution_count": 9,
      "outputs": [
        {
          "output_type": "stream",
          "text": [
            "100%|██████████| 18236/18236 [00:04<00:00, 3763.18it/s]\n"
          ],
          "name": "stderr"
        }
      ]
    },
    {
      "cell_type": "code",
      "metadata": {
        "id": "VF4x1v9ZHYts"
      },
      "source": [
        "def encode_sentence(sentence, N=150):\n",
        "  encoded = np.zeros(N, dtype=int)\n",
        "  enc1 = np.array([embedded_words[word].index for word in sentence])\n",
        "  encoded[:len(enc1)] = enc1\n",
        "  return encoded"
      ],
      "execution_count": 10,
      "outputs": []
    },
    {
      "cell_type": "code",
      "metadata": {
        "id": "LfwascnJIlVW",
        "colab": {
          "base_uri": "https://localhost:8080/"
        },
        "outputId": "174d0098-4ea6-41e3-95e0-7df6f425c906"
      },
      "source": [
        "MAX_LENGTH = 150\n",
        "encoded_sentences = [encode_sentence(sentence, MAX_LENGTH) for sentence in tqdm(sentences)]"
      ],
      "execution_count": 11,
      "outputs": [
        {
          "output_type": "stream",
          "text": [
            "100%|██████████| 18236/18236 [00:00<00:00, 79350.62it/s]\n"
          ],
          "name": "stderr"
        }
      ]
    },
    {
      "cell_type": "code",
      "metadata": {
        "id": "U-K_xGy8Iz1n"
      },
      "source": [
        "X = np.array(encoded_sentences)\n",
        "y = df_tags\n",
        "\n",
        "from sklearn.model_selection import train_test_split\n",
        "X_train, X_valid, y_train, y_valid = train_test_split(X, y, test_size=0.2)"
      ],
      "execution_count": 12,
      "outputs": []
    },
    {
      "cell_type": "code",
      "metadata": {
        "id": "rarUy6i0OZEn"
      },
      "source": [
        "from numpy import array\n",
        "from keras.preprocessing.text import one_hot\n",
        "from keras.preprocessing.sequence import pad_sequences\n",
        "from keras.models import Sequential\n",
        "from keras.layers.core import Activation, Dropout, Dense\n",
        "from keras.layers import Flatten, LSTM\n",
        "from keras.layers import GlobalMaxPooling1D\n",
        "from keras.models import Model\n",
        "from keras.layers.embeddings import Embedding\n",
        "from sklearn.model_selection import train_test_split\n",
        "from keras.preprocessing.text import Tokenizer\n",
        "from keras.layers import Input\n",
        "from keras.layers.merge import Concatenate\n",
        "\n",
        "\n",
        "\n",
        "from sklearn.feature_extraction.text import CountVectorizer\n",
        "from keras.preprocessing.text import Tokenizer\n",
        "from keras.preprocessing.sequence import pad_sequences\n",
        "from keras.models import Sequential\n",
        "from keras.layers import Dense, Embedding, LSTM, SpatialDropout1D\n",
        "from sklearn.model_selection import train_test_split\n",
        "from keras.utils.np_utils import to_categorical\n",
        "from sklearn.utils import resample\n",
        "from sklearn.utils import shuffle\n",
        "from sklearn.metrics import confusion_matrix,classification_report\n",
        "import re"
      ],
      "execution_count": 13,
      "outputs": []
    },
    {
      "cell_type": "code",
      "metadata": {
        "colab": {
          "base_uri": "https://localhost:8080/"
        },
        "id": "usNWoauyHXAl",
        "outputId": "00a288ef-9844-4cb5-8465-6e787adcddfc"
      },
      "source": [
        "lstm_out = 196\n",
        "\n",
        "MAX_LENGTH = 150\n",
        "MAX_FEATURE = len(word2vec.vocab)\n",
        "WEIGHTS = word2vec.vectors\n",
        "EMBEDDING_DIM = WEIGHTS.shape[1]\n",
        "\n",
        "\n",
        "model = Sequential()\n",
        "model.add(Embedding(MAX_FEATURE, \n",
        "                    EMBEDDING_DIM,\n",
        "                    weights=[WEIGHTS],\n",
        "                    input_length=MAX_LENGTH))\n",
        "model.add(SpatialDropout1D(0.4))\n",
        "model.add(LSTM(lstm_out, dropout=0.2, recurrent_dropout=0.2))\n",
        "model.add(Dense(20,activation='softmax'))\n",
        "model.compile(loss = 'categorical_crossentropy', optimizer='adam',metrics = ['accuracy'])\n",
        "print(model.summary())"
      ],
      "execution_count": 14,
      "outputs": [
        {
          "output_type": "stream",
          "text": [
            "WARNING:tensorflow:Layer lstm will not use cuDNN kernel since it doesn't meet the cuDNN kernel criteria. It will use generic GPU kernel as fallback when running on GPU\n",
            "Model: \"sequential\"\n",
            "_________________________________________________________________\n",
            "Layer (type)                 Output Shape              Param #   \n",
            "=================================================================\n",
            "embedding (Embedding)        (None, 150, 32)           4603744   \n",
            "_________________________________________________________________\n",
            "spatial_dropout1d (SpatialDr (None, 150, 32)           0         \n",
            "_________________________________________________________________\n",
            "lstm (LSTM)                  (None, 196)               179536    \n",
            "_________________________________________________________________\n",
            "dense (Dense)                (None, 20)                3940      \n",
            "=================================================================\n",
            "Total params: 4,787,220\n",
            "Trainable params: 4,787,220\n",
            "Non-trainable params: 0\n",
            "_________________________________________________________________\n",
            "None\n"
          ],
          "name": "stdout"
        }
      ]
    },
    {
      "cell_type": "code",
      "metadata": {
        "colab": {
          "base_uri": "https://localhost:8080/"
        },
        "id": "lJyd1eL_SW-T",
        "outputId": "c9f57a35-3c40-4efa-e3cd-d89562e6b5f7"
      },
      "source": [
        "import tensorflow as tf\n",
        "print(tf.__version__)\n",
        "device_name = tf.test.gpu_device_name()\n",
        "if device_name != '/device:GPU:0':\n",
        "  raise SystemError('GPU device not found')\n",
        "print('Found GPU at: {}'.format(device_name))\n"
      ],
      "execution_count": 15,
      "outputs": [
        {
          "output_type": "stream",
          "text": [
            "2.4.1\n",
            "Found GPU at: /device:GPU:0\n"
          ],
          "name": "stdout"
        }
      ]
    },
    {
      "cell_type": "code",
      "metadata": {
        "colab": {
          "base_uri": "https://localhost:8080/"
        },
        "id": "uYsRbMdG1L61",
        "outputId": "7a8e3d40-9af4-40f1-b4da-4ee345143589"
      },
      "source": [
        "batch_size = 128\n",
        "model.fit(X_train, y_train, epochs = 10, batch_size=batch_size, verbose = 1)"
      ],
      "execution_count": 16,
      "outputs": [
        {
          "output_type": "stream",
          "text": [
            "Epoch 1/10\n",
            "114/114 [==============================] - 62s 503ms/step - loss: 8.0999 - accuracy: 0.0635\n",
            "Epoch 2/10\n",
            "114/114 [==============================] - 59s 520ms/step - loss: 8.1358 - accuracy: 0.1049\n",
            "Epoch 3/10\n",
            "114/114 [==============================] - 57s 502ms/step - loss: 8.1034 - accuracy: 0.0652\n",
            "Epoch 4/10\n",
            "114/114 [==============================] - 56s 493ms/step - loss: 8.1096 - accuracy: 0.0876\n",
            "Epoch 5/10\n",
            "114/114 [==============================] - 56s 496ms/step - loss: 8.1687 - accuracy: 0.1239\n",
            "Epoch 6/10\n",
            "114/114 [==============================] - 57s 498ms/step - loss: 8.1271 - accuracy: 0.1110\n",
            "Epoch 7/10\n",
            "114/114 [==============================] - 56s 492ms/step - loss: 8.2196 - accuracy: 0.0806\n",
            "Epoch 8/10\n",
            "114/114 [==============================] - 56s 493ms/step - loss: 8.2595 - accuracy: 0.1323\n",
            "Epoch 9/10\n",
            "114/114 [==============================] - 56s 490ms/step - loss: 8.2416 - accuracy: 0.0938\n",
            "Epoch 10/10\n",
            "114/114 [==============================] - 56s 490ms/step - loss: 8.3496 - accuracy: 0.1258\n"
          ],
          "name": "stdout"
        },
        {
          "output_type": "execute_result",
          "data": {
            "text/plain": [
              "<tensorflow.python.keras.callbacks.History at 0x7f605e6fe410>"
            ]
          },
          "metadata": {
            "tags": []
          },
          "execution_count": 16
        }
      ]
    },
    {
      "cell_type": "code",
      "metadata": {
        "id": "83SGoq633Xs1",
        "colab": {
          "base_uri": "https://localhost:8080/",
          "height": 232
        },
        "outputId": "489b58ad-371e-4532-b91e-2e3f01ff0773"
      },
      "source": [
        "max_fatures = 2000\n",
        "tokenizer = Tokenizer(num_words=max_fatures, split=' ')\n",
        "tokenizer.fit_on_texts(sentences[\"\"])\n",
        "X = tokenizer.texts_to_sequences(new_df['rComments'].values)\n",
        "X = pad_sequences(X)\n",
        "# print(X[:2])\n",
        "\n",
        "Y = pd.get_dummies(new_df[category]).values\n",
        "X_train, X_test, Y_train, Y_test = train_test_split(X,Y, test_size = 0.20, random_state = 42)\n",
        "print(X_train.shape,Y_train.shape)"
      ],
      "execution_count": 17,
      "outputs": [
        {
          "output_type": "error",
          "ename": "TypeError",
          "evalue": "ignored",
          "traceback": [
            "\u001b[0;31m---------------------------------------------------------------------------\u001b[0m",
            "\u001b[0;31mTypeError\u001b[0m                                 Traceback (most recent call last)",
            "\u001b[0;32m<ipython-input-17-072f24c40f18>\u001b[0m in \u001b[0;36m<module>\u001b[0;34m()\u001b[0m\n\u001b[1;32m      1\u001b[0m \u001b[0mmax_fatures\u001b[0m \u001b[0;34m=\u001b[0m \u001b[0;36m2000\u001b[0m\u001b[0;34m\u001b[0m\u001b[0;34m\u001b[0m\u001b[0m\n\u001b[1;32m      2\u001b[0m \u001b[0mtokenizer\u001b[0m \u001b[0;34m=\u001b[0m \u001b[0mTokenizer\u001b[0m\u001b[0;34m(\u001b[0m\u001b[0mnum_words\u001b[0m\u001b[0;34m=\u001b[0m\u001b[0mmax_fatures\u001b[0m\u001b[0;34m,\u001b[0m \u001b[0msplit\u001b[0m\u001b[0;34m=\u001b[0m\u001b[0;34m' '\u001b[0m\u001b[0;34m)\u001b[0m\u001b[0;34m\u001b[0m\u001b[0;34m\u001b[0m\u001b[0m\n\u001b[0;32m----> 3\u001b[0;31m \u001b[0mtokenizer\u001b[0m\u001b[0;34m.\u001b[0m\u001b[0mfit_on_texts\u001b[0m\u001b[0;34m(\u001b[0m\u001b[0msentences\u001b[0m\u001b[0;34m[\u001b[0m\u001b[0;34m\"\"\u001b[0m\u001b[0;34m]\u001b[0m\u001b[0;34m)\u001b[0m\u001b[0;34m\u001b[0m\u001b[0;34m\u001b[0m\u001b[0m\n\u001b[0m\u001b[1;32m      4\u001b[0m \u001b[0mX\u001b[0m \u001b[0;34m=\u001b[0m \u001b[0mtokenizer\u001b[0m\u001b[0;34m.\u001b[0m\u001b[0mtexts_to_sequences\u001b[0m\u001b[0;34m(\u001b[0m\u001b[0mnew_df\u001b[0m\u001b[0;34m[\u001b[0m\u001b[0;34m'rComments'\u001b[0m\u001b[0;34m]\u001b[0m\u001b[0;34m.\u001b[0m\u001b[0mvalues\u001b[0m\u001b[0;34m)\u001b[0m\u001b[0;34m\u001b[0m\u001b[0;34m\u001b[0m\u001b[0m\n\u001b[1;32m      5\u001b[0m \u001b[0mX\u001b[0m \u001b[0;34m=\u001b[0m \u001b[0mpad_sequences\u001b[0m\u001b[0;34m(\u001b[0m\u001b[0mX\u001b[0m\u001b[0;34m)\u001b[0m\u001b[0;34m\u001b[0m\u001b[0;34m\u001b[0m\u001b[0m\n",
            "\u001b[0;31mTypeError\u001b[0m: list indices must be integers or slices, not str"
          ]
        }
      ]
    }
  ]
}